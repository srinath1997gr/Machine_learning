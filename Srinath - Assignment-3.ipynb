{
 "cells": [
  {
   "cell_type": "code",
   "execution_count": 1,
   "id": "2a48c695",
   "metadata": {},
   "outputs": [],
   "source": [
    "import pandas as pd\n",
    "from sklearn.model_selection import train_test_split\n",
    "from sklearn.metrics import accuracy_score\n",
    "from sklearn.tree import DecisionTreeClassifier  # example base learner"
   ]
  },
  {
   "cell_type": "code",
   "execution_count": 2,
   "id": "569f14a1",
   "metadata": {},
   "outputs": [],
   "source": [
    "# Load the dataset\n",
    "data = pd.read_csv('fall2023-programming-assignment-3/dataset.csv')\n",
    "\n",
    "X = data.drop('Cover_Type', axis=1)\n",
    "X = X.drop('Id', axis=1)\n",
    "y = data['Cover_Type']\n"
   ]
  },
  {
   "cell_type": "code",
   "execution_count": 3,
   "id": "0782da34",
   "metadata": {},
   "outputs": [
    {
     "name": "stdout",
     "output_type": "stream",
     "text": [
      "(15120, 56)\n",
      "(15120, 54)\n",
      "(15120,)\n"
     ]
    }
   ],
   "source": [
    "print(data.shape)\n",
    "print(X.shape)\n",
    "print(y.shape)\n"
   ]
  },
  {
   "cell_type": "code",
   "execution_count": 4,
   "id": "dd322d7e",
   "metadata": {},
   "outputs": [],
   "source": [
    "import numpy as np\n",
    "from sklearn.tree import DecisionTreeClassifier\n",
    "from sklearn.metrics import accuracy_score\n",
    "import math\n",
    "\n",
    "\n",
    "import numpy as np\n",
    "from sklearn.tree import DecisionTreeClassifier\n",
    "from sklearn.metrics import accuracy_score\n",
    "import math\n",
    "\n",
    "def train_adaboost(train_data, train_labels, iterations, depth_of_tree=20):\n",
    "\n",
    "    weights = np.ones(train_data.shape[0]) / train_data.shape[0]\n",
    "    \n",
    "    decision_trees = []\n",
    "    tree_weights = []\n",
    "\n",
    "    for _ in range(iterations):\n",
    "\n",
    "        decision_tree = DecisionTreeClassifier(max_features=1, max_depth=depth_of_tree)\n",
    "        decision_tree.fit(train_data, train_labels, sample_weight=weights)\n",
    "        decision_trees.append(decision_tree)\n",
    "\n",
    "        predicted_labels = decision_tree.predict(train_data)\n",
    "        \n",
    "        mismatch = np.clip((1 - accuracy_score(train_labels, predicted_labels)), 1e-10, 1 - 1e-10)\n",
    "\n",
    "        tree_weight = math.log((1 - mismatch) / mismatch) + math.log(len(np.unique(train_labels)) - 1)\n",
    "        tree_weights.append(tree_weight)\n",
    "\n",
    "        update = np.exp(tree_weight * (predicted_labels != train_labels))\n",
    "        weights = weights * update / np.sum(weights * update)\n",
    "\n",
    "    return decision_trees, tree_weights\n"
   ]
  },
  {
   "cell_type": "code",
   "execution_count": 5,
   "id": "b24ba8ef",
   "metadata": {},
   "outputs": [],
   "source": [
    "\n",
    "def test_adaboost(models, model_weights, evaluation_data):\n",
    "    sample_size, class_count = models[0].predict_proba(evaluation_data).shape\n",
    "\n",
    "    cumulative_probabilities = np.zeros((sample_size, class_count))\n",
    "\n",
    "    for model, weight in zip(models, model_weights):\n",
    "        class_probabilities = model.predict_proba(evaluation_data)\n",
    "        cumulative_probabilities += weight * class_probabilities\n",
    "\n",
    "    predictions = np.argmax(cumulative_probabilities, axis=1) + 1\n",
    "\n",
    "    return predictions\n"
   ]
  },
  {
   "cell_type": "markdown",
   "metadata": {},
   "source": [
    "1 Question"
   ]
  },
  {
   "cell_type": "code",
   "execution_count": 6,
   "metadata": {},
   "outputs": [],
   "source": [
    "from sklearn.model_selection import KFold\n",
    "import numpy as np\n",
    "from tqdm import tqdm\n",
    "from sklearn.metrics import accuracy_score\n",
    "\n",
    "def k_fold_adaboost(X, y, max_iterations, num_folds=5):\n",
    "    kf = KFold(n_splits=num_folds, random_state=1234, shuffle=True)\n",
    "\n",
    "    training_accuracies = [[] for _ in range(max_iterations)]\n",
    "    testing_accuracies = [[] for _ in range(max_iterations)]\n",
    "\n",
    "    for fold, (train_index, test_index) in enumerate(kf.split(X), start=1):\n",
    "        X_train, X_test = X.iloc[train_index], X.iloc[test_index]\n",
    "        y_train, y_test = y.iloc[train_index], y.iloc[test_index]\n",
    "\n",
    "        fold_training_accuracy = []\n",
    "        fold_testing_accuracy = []\n",
    "\n",
    "        for iteration in tqdm(range(1, max_iterations + 1)):\n",
    "            trees, alphas = train_adaboost(X_train, y_train, iteration)\n",
    "\n",
    "            train_predictions = test_adaboost(trees, alphas, X_train)\n",
    "            training_accuracy = accuracy_score(y_train, train_predictions)\n",
    "            fold_training_accuracy.append(training_accuracy)\n",
    "\n",
    "            test_predictions = test_adaboost(trees, alphas, X_test)\n",
    "            testing_accuracy = accuracy_score(y_test, test_predictions)\n",
    "            fold_testing_accuracy.append(testing_accuracy)\n",
    "\n",
    "            training_accuracies[iteration - 1].append(training_accuracy)\n",
    "            testing_accuracies[iteration - 1].append(testing_accuracy)\n",
    "\n",
    "        print(f\"Fold {fold}, Average Training Accuracy: {np.mean(fold_training_accuracy)}, Average Testing Accuracy: {np.mean(fold_testing_accuracy)}\")\n",
    "\n",
    "    avg_training_accuracies = [np.mean(acc) for acc in training_accuracies]\n",
    "    avg_testing_accuracies = [np.mean(acc) for acc in testing_accuracies]\n",
    "\n",
    "    return avg_training_accuracies, avg_testing_accuracies\n",
    "\n"
   ]
  },
  {
   "cell_type": "code",
   "execution_count": 7,
   "metadata": {},
   "outputs": [
    {
     "name": "stderr",
     "output_type": "stream",
     "text": [
      "100%|██████████| 100/100 [02:06<00:00,  1.26s/it]\n"
     ]
    },
    {
     "name": "stdout",
     "output_type": "stream",
     "text": [
      "Fold 1, Average Training Accuracy: 0.9933077050264549, Average Testing Accuracy: 0.8290773809523809\n"
     ]
    },
    {
     "name": "stderr",
     "output_type": "stream",
     "text": [
      "100%|██████████| 100/100 [04:15<00:00,  2.55s/it]\n"
     ]
    },
    {
     "name": "stdout",
     "output_type": "stream",
     "text": [
      "Fold 2, Average Training Accuracy: 0.9940104166666666, Average Testing Accuracy: 0.8122519841269842\n"
     ]
    },
    {
     "name": "stderr",
     "output_type": "stream",
     "text": [
      "100%|██████████| 100/100 [04:38<00:00,  2.79s/it]\n"
     ]
    },
    {
     "name": "stdout",
     "output_type": "stream",
     "text": [
      "Fold 3, Average Training Accuracy: 0.9946982473544973, Average Testing Accuracy: 0.825165343915344\n"
     ]
    },
    {
     "name": "stderr",
     "output_type": "stream",
     "text": [
      "100%|██████████| 100/100 [03:56<00:00,  2.37s/it]\n"
     ]
    },
    {
     "name": "stdout",
     "output_type": "stream",
     "text": [
      "Fold 4, Average Training Accuracy: 0.9938260582010582, Average Testing Accuracy: 0.8125297619047618\n"
     ]
    },
    {
     "name": "stderr",
     "output_type": "stream",
     "text": [
      "100%|██████████| 100/100 [04:58<00:00,  2.98s/it]"
     ]
    },
    {
     "name": "stdout",
     "output_type": "stream",
     "text": [
      "Fold 5, Average Training Accuracy: 0.9935416666666665, Average Testing Accuracy: 0.8160119047619047\n"
     ]
    },
    {
     "name": "stderr",
     "output_type": "stream",
     "text": [
      "\n"
     ]
    }
   ],
   "source": [
    "max_run= 100\n",
    "training_sum, testing_sum = k_fold_adaboost(X, y, max_run)\n"
   ]
  },
  {
   "cell_type": "markdown",
   "metadata": {},
   "source": [
    "2 Question"
   ]
  },
  {
   "cell_type": "code",
   "execution_count": 10,
   "metadata": {},
   "outputs": [],
   "source": [
    "from sklearn.model_selection import KFold\n",
    "from sklearn.tree import DecisionTreeClassifier\n",
    "from sklearn.metrics import accuracy_score\n",
    "\n",
    "def run_base_learner(X, y):\n",
    "    kf = KFold(n_splits=5, random_state=1234, shuffle=True)\n",
    "\n",
    "    total_training_accuracy = 0\n",
    "    total_testing_accuracy = 0\n",
    "\n",
    "    for train_index, test_index in kf.split(X):\n",
    "        X_train, X_test = X.iloc[train_index], X.iloc[test_index]\n",
    "        y_train, y_test = y.iloc[train_index], y.iloc[test_index]\n",
    "\n",
    "        base_learner = DecisionTreeClassifier(max_depth=1)\n",
    "        base_learner.fit(X_train, y_train)\n",
    "\n",
    "        train_predictions = base_learner.predict(X_train)\n",
    "        training_accuracy = accuracy_score(y_train, train_predictions)\n",
    "        total_training_accuracy += training_accuracy\n",
    "\n",
    "        test_predictions = base_learner.predict(X_test)\n",
    "        testing_accuracy = accuracy_score(y_test, test_predictions)\n",
    "        total_testing_accuracy += testing_accuracy\n",
    "\n",
    "    avg_training_accuracy = total_training_accuracy / kf.get_n_splits()\n",
    "    avg_testing_accuracy = total_testing_accuracy / kf.get_n_splits()\n",
    "\n",
    "    return avg_training_accuracy, avg_testing_accuracy\n"
   ]
  },
  {
   "cell_type": "code",
   "execution_count": 11,
   "metadata": {},
   "outputs": [
    {
     "name": "stdout",
     "output_type": "stream",
     "text": [
      "Training Accuracy: 0.2862599206349207\n",
      "Testing Accuracy: 0.2828703703703704\n"
     ]
    }
   ],
   "source": [
    "training_accuracy, testing_accuracy = run_base_learner(X, y)\n",
    "print(f\"Training Accuracy: {training_accuracy}\")\n",
    "print(f\"Testing Accuracy: {testing_accuracy}\")"
   ]
  },
  {
   "cell_type": "markdown",
   "metadata": {},
   "source": [
    "3 Question"
   ]
  },
  {
   "cell_type": "code",
   "execution_count": 12,
   "metadata": {},
   "outputs": [
    {
     "name": "stderr",
     "output_type": "stream",
     "text": [
      "100%|██████████| 100/100 [03:43<00:00,  2.23s/it]\n"
     ]
    },
    {
     "name": "stdout",
     "output_type": "stream",
     "text": [
      "Fold 1, Average Training Accuracy: 0.9929356812169311, Average Testing Accuracy: 0.8294047619047619\n"
     ]
    },
    {
     "name": "stderr",
     "output_type": "stream",
     "text": [
      "100%|██████████| 100/100 [03:57<00:00,  2.38s/it]\n"
     ]
    },
    {
     "name": "stdout",
     "output_type": "stream",
     "text": [
      "Fold 2, Average Training Accuracy: 0.9936416997354496, Average Testing Accuracy: 0.811607142857143\n"
     ]
    },
    {
     "name": "stderr",
     "output_type": "stream",
     "text": [
      "100%|██████████| 100/100 [03:13<00:00,  1.93s/it]\n"
     ]
    },
    {
     "name": "stdout",
     "output_type": "stream",
     "text": [
      "Fold 3, Average Training Accuracy: 0.9946552579365079, Average Testing Accuracy: 0.8239616402116403\n"
     ]
    },
    {
     "name": "stderr",
     "output_type": "stream",
     "text": [
      "100%|██████████| 100/100 [03:56<00:00,  2.36s/it]\n"
     ]
    },
    {
     "name": "stdout",
     "output_type": "stream",
     "text": [
      "Fold 4, Average Training Accuracy: 0.9925090939153439, Average Testing Accuracy: 0.8118419312169314\n"
     ]
    },
    {
     "name": "stderr",
     "output_type": "stream",
     "text": [
      "100%|██████████| 100/100 [03:15<00:00,  1.96s/it]\n"
     ]
    },
    {
     "name": "stdout",
     "output_type": "stream",
     "text": [
      "Fold 5, Average Training Accuracy: 0.9940376984126985, Average Testing Accuracy: 0.8168287037037036\n"
     ]
    },
    {
     "data": {
      "image/png": "[encoded data removed]",
      "text/plain": [
       "<Figure size 1000x600 with 1 Axes>"
      ]
     },
     "metadata": {},
     "output_type": "display_data"
    }
   ],
   "source": [
    "import matplotlib.pyplot as plt\n",
    "\n",
    "max_rounds = 100  \n",
    "adaboost_train_acc, adaboost_test_acc = k_fold_adaboost(X, y, max_rounds)\n",
    "base_learner_train_acc = []\n",
    "base_learner_test_acc = []\n",
    "\n",
    "for round in range(1, max_rounds + 1):\n",
    "    train_acc, test_acc = run_base_learner(X, y)\n",
    "    base_learner_train_acc.append(train_acc)\n",
    "    base_learner_test_acc.append(test_acc)\n",
    "\n",
    "plt.figure(figsize=(10, 6))\n",
    "plt.plot(range(1, max_rounds + 1), adaboost_train_acc, label='AdaBoost Training Accuracy')\n",
    "plt.plot(range(1, max_rounds + 1), adaboost_test_acc, label='AdaBoost Testing Accuracy')\n",
    "plt.plot(range(1, max_rounds + 1), base_learner_train_acc, label='Base Learner Training Accuracy')\n",
    "plt.plot(range(1, max_rounds + 1), base_learner_test_acc, label='Base Learner Testing Accuracy')\n",
    "plt.xlabel('Number of Rounds')\n",
    "plt.ylabel('Accuracy')\n",
    "plt.title('Accuracy vs Number of Rounds for AdaBoost and Base Learner')\n",
    "plt.legend()\n",
    "plt.show()"
   ]
  },
  {
   "cell_type": "markdown",
   "metadata": {},
   "source": [
    "4 Question\n",
    "\n",
    "Answer: When you increase the depth of the tree, the accuarcy of the training and testing will be increased and also the depth is increased the accuracy which remains stagnant is achived earlier which means it takes less number of number of rounds. When you observe above graph you can interept that for both base learner and adaboost learner the testing accuarcy is less than the trainer accuarcy which means the model is overfitting. "
   ]
  },
  {
   "cell_type": "markdown",
   "metadata": {},
   "source": [
    "5 Question"
   ]
  },
  {
   "cell_type": "code",
   "execution_count": 16,
   "metadata": {},
   "outputs": [],
   "source": [
    "judge_data = pd.read_csv('fall2023-programming-assignment-3/judge-no-labels.csv')\n",
    "\n",
    "i = judge_data['Id'].values\n",
    "judge_data = judge_data.drop(['Id'],axis=1)\n",
    "max_rounds = max_run  \n",
    "tree_max_depth = 20\n",
    "\n",
    "trained_trees, trained_alphas = train_adaboost(X, y, iterations=max_rounds, depth_of_tree=tree_max_depth)\n",
    "\n",
    "judge_predictions = test_adaboost(trained_trees, trained_alphas, judge_data)\n",
    "\n",
    "output_file = 'judge-predictions.csv'\n",
    "pd.DataFrame(judge_predictions, columns=['Cover_Type'], index= i).to_csv(output_file, index=True, index_label=\"ID\")\n"
   ]
  }
 ],
 "metadata": {
  "kernelspec": {
   "display_name": "Python 3 (ipykernel)",
   "language": "python",
   "name": "python3"
  },
  "language_info": {
   "codemirror_mode": {
    "name": "ipython",
    "version": 3
   },
   "file_extension": ".py",
   "mimetype": "text/x-python",
   "name": "python",
   "nbconvert_exporter": "python",
   "pygments_lexer": "ipython3",
   "version": "3.11.1"
  }
 },
 "nbformat": 4,
 "nbformat_minor": 5
}
